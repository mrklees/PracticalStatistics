{
  "nbformat": 4,
  "nbformat_minor": 0,
  "metadata": {
    "colab": {
      "name": "Statistical Testing & p-values.ipynb",
      "version": "0.3.2",
      "provenance": [],
      "collapsed_sections": [],
      "include_colab_link": true
    },
    "kernelspec": {
      "name": "python3",
      "display_name": "Python 3"
    }
  },
  "cells": [
    {
      "cell_type": "markdown",
      "metadata": {
        "id": "view-in-github",
        "colab_type": "text"
      },
      "source": [
        "<a href=\"https://colab.research.google.com/github/mrklees/PracticalStatistics/blob/master/Statistical_Testing_%26_p_values.ipynb\" target=\"_parent\"><img src=\"https://colab.research.google.com/assets/colab-badge.svg\" alt=\"Open In Colab\"/></a>"
      ]
    },
    {
      "metadata": {
        "id": "MGf9iHYgNK5v",
        "colab_type": "text"
      },
      "cell_type": "markdown",
      "source": [
        "# Introduction to Statistical Testing & p-values\n",
        "\n",
        "### Don't Forget to Run All (Ctrl+F9)\n",
        "### Alex! Press the Record Button!!!\n",
        "\n",
        "\n",
        "By the end of the session participants will...\n",
        "\n",
        "* Review the ideas of expectation and variance and place in the context of the sample versus the population\n",
        "* Learn a new way to express both expectation and variance in the form of confidence intervals\n",
        "* Be introduced to the idea of statistical inference, and will get some initial exposure to statistical testing and p-values.\n",
        "* Learn about the limitations of p-values and about the nuance in evidence\n",
        "\n",
        "## Reviewing some Language\n",
        "\n",
        "**Expected Value: ** This is the average! It's the long-run average value of repetitions of the same experiment.\n",
        "\n",
        "**Variance:** This is a measure of how spread out a distribution is from its mean.  The greater the variance, the futher values fall from its mean.  We will properly define this term today.  "
      ]
    },
    {
      "metadata": {
        "id": "2AsqWvLxjJD4",
        "colab_type": "code",
        "colab": {}
      },
      "cell_type": "code",
      "source": [
        "#@title Imports and Global Variables (run this cell first)  { display-mode: \"form\" }\n",
        "#@markdown This sets the warning status (default is `ignore`, since this notebook runs correctly)\n",
        "warning_status = \"ignore\" #@param [\"ignore\", \"always\", \"module\", \"once\", \"default\", \"error\"]\n",
        "import warnings\n",
        "warnings.filterwarnings(warning_status)\n",
        "with warnings.catch_warnings():\n",
        "    warnings.filterwarnings(warning_status, category=DeprecationWarning)\n",
        "    warnings.filterwarnings(warning_status, category=UserWarning)\n",
        "\n",
        "import numpy as np\n",
        "import pandas as pd\n",
        "import os\n",
        "#@markdown This sets the styles of the plotting (default is styled like plots from [FiveThirtyeight.com](https://fivethirtyeight.com/))\n",
        "matplotlib_style = 'fivethirtyeight' #@param ['fivethirtyeight', 'bmh', 'ggplot', 'seaborn', 'default', 'Solarize_Light2', 'classic', 'dark_background', 'seaborn-colorblind', 'seaborn-notebook']\n",
        "import matplotlib.pyplot as plt; plt.style.use(matplotlib_style)\n",
        "%matplotlib inline\n",
        "import seaborn as sns; sns.set_context('notebook')"
      ],
      "execution_count": 0,
      "outputs": []
    },
    {
      "metadata": {
        "id": "bcqFUEkZjUtY",
        "colab_type": "code",
        "outputId": "0343c329-b6be-477b-8761-516e2a77dd39",
        "cellView": "form",
        "colab": {
          "base_uri": "https://localhost:8080/",
          "height": 224
        }
      },
      "cell_type": "code",
      "source": [
        "#@title Read the Data from the Web\n",
        "data_url = 'https://impactblob.blob.core.windows.net/public/anon_hmh.csv'\n",
        "data = pd.read_csv(data_url)\n",
        "data.head()"
      ],
      "execution_count": 0,
      "outputs": [
        {
          "output_type": "execute_result",
          "data": {
            "text/html": [
              "<div>\n",
              "<style scoped>\n",
              "    .dataframe tbody tr th:only-of-type {\n",
              "        vertical-align: middle;\n",
              "    }\n",
              "\n",
              "    .dataframe tbody tr th {\n",
              "        vertical-align: top;\n",
              "    }\n",
              "\n",
              "    .dataframe thead th {\n",
              "        text-align: right;\n",
              "    }\n",
              "</style>\n",
              "<table border=\"1\" class=\"dataframe\">\n",
              "  <thead>\n",
              "    <tr style=\"text-align: right;\">\n",
              "      <th></th>\n",
              "      <th>GRADE_ID_NUMERIC</th>\n",
              "      <th>OFFICIALFLLIT</th>\n",
              "      <th>OFFICIALFLMTH</th>\n",
              "      <th>FL_LIT_MET_DOSAGE</th>\n",
              "      <th>FL_MTH_MET_DOSAGE</th>\n",
              "      <th>litassess_pre_value_num</th>\n",
              "      <th>LITASSESS_RAWCHANGE</th>\n",
              "      <th>LITASSESS_SRITARGET</th>\n",
              "      <th>mathassess_pre_value_num</th>\n",
              "      <th>MathAssess_RAWCHANGE</th>\n",
              "      <th>SMI_TARGET</th>\n",
              "      <th>AnonId</th>\n",
              "      <th>SiteId</th>\n",
              "      <th>SchoolId</th>\n",
              "      <th>att_pre_value</th>\n",
              "      <th>att_post_value</th>\n",
              "    </tr>\n",
              "  </thead>\n",
              "  <tbody>\n",
              "    <tr>\n",
              "      <th>0</th>\n",
              "      <td>7</td>\n",
              "      <td>0</td>\n",
              "      <td>0</td>\n",
              "      <td>NaN</td>\n",
              "      <td>NaN</td>\n",
              "      <td>NaN</td>\n",
              "      <td>NaN</td>\n",
              "      <td>NaN</td>\n",
              "      <td>505.0</td>\n",
              "      <td>130.0</td>\n",
              "      <td>150.0</td>\n",
              "      <td>2634048971</td>\n",
              "      <td>1</td>\n",
              "      <td>59</td>\n",
              "      <td>NaN</td>\n",
              "      <td>NaN</td>\n",
              "    </tr>\n",
              "    <tr>\n",
              "      <th>1</th>\n",
              "      <td>7</td>\n",
              "      <td>0</td>\n",
              "      <td>0</td>\n",
              "      <td>NaN</td>\n",
              "      <td>NaN</td>\n",
              "      <td>NaN</td>\n",
              "      <td>NaN</td>\n",
              "      <td>NaN</td>\n",
              "      <td>505.0</td>\n",
              "      <td>290.0</td>\n",
              "      <td>150.0</td>\n",
              "      <td>2405496161</td>\n",
              "      <td>1</td>\n",
              "      <td>59</td>\n",
              "      <td>NaN</td>\n",
              "      <td>NaN</td>\n",
              "    </tr>\n",
              "    <tr>\n",
              "      <th>2</th>\n",
              "      <td>7</td>\n",
              "      <td>0</td>\n",
              "      <td>0</td>\n",
              "      <td>NaN</td>\n",
              "      <td>NaN</td>\n",
              "      <td>NaN</td>\n",
              "      <td>NaN</td>\n",
              "      <td>NaN</td>\n",
              "      <td>610.0</td>\n",
              "      <td>305.0</td>\n",
              "      <td>150.0</td>\n",
              "      <td>2627617999</td>\n",
              "      <td>1</td>\n",
              "      <td>59</td>\n",
              "      <td>NaN</td>\n",
              "      <td>NaN</td>\n",
              "    </tr>\n",
              "    <tr>\n",
              "      <th>3</th>\n",
              "      <td>8</td>\n",
              "      <td>0</td>\n",
              "      <td>0</td>\n",
              "      <td>NaN</td>\n",
              "      <td>NaN</td>\n",
              "      <td>NaN</td>\n",
              "      <td>NaN</td>\n",
              "      <td>NaN</td>\n",
              "      <td>695.0</td>\n",
              "      <td>135.0</td>\n",
              "      <td>150.0</td>\n",
              "      <td>1437215014</td>\n",
              "      <td>1</td>\n",
              "      <td>59</td>\n",
              "      <td>NaN</td>\n",
              "      <td>NaN</td>\n",
              "    </tr>\n",
              "    <tr>\n",
              "      <th>4</th>\n",
              "      <td>8</td>\n",
              "      <td>0</td>\n",
              "      <td>0</td>\n",
              "      <td>NaN</td>\n",
              "      <td>NaN</td>\n",
              "      <td>NaN</td>\n",
              "      <td>NaN</td>\n",
              "      <td>NaN</td>\n",
              "      <td>610.0</td>\n",
              "      <td>75.0</td>\n",
              "      <td>150.0</td>\n",
              "      <td>461103962</td>\n",
              "      <td>1</td>\n",
              "      <td>59</td>\n",
              "      <td>NaN</td>\n",
              "      <td>NaN</td>\n",
              "    </tr>\n",
              "  </tbody>\n",
              "</table>\n",
              "</div>"
            ],
            "text/plain": [
              "   GRADE_ID_NUMERIC  OFFICIALFLLIT  OFFICIALFLMTH  FL_LIT_MET_DOSAGE  \\\n",
              "0                 7              0              0                NaN   \n",
              "1                 7              0              0                NaN   \n",
              "2                 7              0              0                NaN   \n",
              "3                 8              0              0                NaN   \n",
              "4                 8              0              0                NaN   \n",
              "\n",
              "   FL_MTH_MET_DOSAGE  litassess_pre_value_num  LITASSESS_RAWCHANGE  \\\n",
              "0                NaN                      NaN                  NaN   \n",
              "1                NaN                      NaN                  NaN   \n",
              "2                NaN                      NaN                  NaN   \n",
              "3                NaN                      NaN                  NaN   \n",
              "4                NaN                      NaN                  NaN   \n",
              "\n",
              "   LITASSESS_SRITARGET  mathassess_pre_value_num  MathAssess_RAWCHANGE  \\\n",
              "0                  NaN                     505.0                 130.0   \n",
              "1                  NaN                     505.0                 290.0   \n",
              "2                  NaN                     610.0                 305.0   \n",
              "3                  NaN                     695.0                 135.0   \n",
              "4                  NaN                     610.0                  75.0   \n",
              "\n",
              "   SMI_TARGET      AnonId  SiteId  SchoolId  att_pre_value  att_post_value  \n",
              "0       150.0  2634048971       1        59            NaN             NaN  \n",
              "1       150.0  2405496161       1        59            NaN             NaN  \n",
              "2       150.0  2627617999       1        59            NaN             NaN  \n",
              "3       150.0  1437215014       1        59            NaN             NaN  \n",
              "4       150.0   461103962       1        59            NaN             NaN  "
            ]
          },
          "metadata": {
            "tags": []
          },
          "execution_count": 4
        }
      ]
    },
    {
      "metadata": {
        "id": "mco0Ex7JjWAO",
        "colab_type": "code",
        "outputId": "8673325c-d66a-4d8d-fae1-83de9934d597",
        "cellView": "both",
        "colab": {
          "base_uri": "https://localhost:8080/",
          "height": 365
        }
      },
      "cell_type": "code",
      "source": [
        "#@title Let's take a look at some descriptive statisitics\n",
        "def describe_nulls(data):\n",
        "    desc = data.describe(include=data.dtypes.unique())\n",
        "    desc.loc['% Null'] = data.isna().sum() / data.shape[0]\n",
        "    return desc\n",
        "describe_nulls(data)"
      ],
      "execution_count": 0,
      "outputs": [
        {
          "output_type": "execute_result",
          "data": {
            "text/html": [
              "<div>\n",
              "<style scoped>\n",
              "    .dataframe tbody tr th:only-of-type {\n",
              "        vertical-align: middle;\n",
              "    }\n",
              "\n",
              "    .dataframe tbody tr th {\n",
              "        vertical-align: top;\n",
              "    }\n",
              "\n",
              "    .dataframe thead th {\n",
              "        text-align: right;\n",
              "    }\n",
              "</style>\n",
              "<table border=\"1\" class=\"dataframe\">\n",
              "  <thead>\n",
              "    <tr style=\"text-align: right;\">\n",
              "      <th></th>\n",
              "      <th>GRADE_ID_NUMERIC</th>\n",
              "      <th>OFFICIALFLLIT</th>\n",
              "      <th>OFFICIALFLMTH</th>\n",
              "      <th>FL_LIT_MET_DOSAGE</th>\n",
              "      <th>FL_MTH_MET_DOSAGE</th>\n",
              "      <th>litassess_pre_value_num</th>\n",
              "      <th>LITASSESS_RAWCHANGE</th>\n",
              "      <th>LITASSESS_SRITARGET</th>\n",
              "      <th>mathassess_pre_value_num</th>\n",
              "      <th>MathAssess_RAWCHANGE</th>\n",
              "      <th>SMI_TARGET</th>\n",
              "      <th>AnonId</th>\n",
              "      <th>SiteId</th>\n",
              "      <th>SchoolId</th>\n",
              "      <th>att_pre_value</th>\n",
              "      <th>att_post_value</th>\n",
              "    </tr>\n",
              "  </thead>\n",
              "  <tbody>\n",
              "    <tr>\n",
              "      <th>count</th>\n",
              "      <td>6620.000000</td>\n",
              "      <td>6620.000000</td>\n",
              "      <td>6620.000000</td>\n",
              "      <td>2651.000000</td>\n",
              "      <td>2784.000000</td>\n",
              "      <td>4478.000000</td>\n",
              "      <td>3762.000000</td>\n",
              "      <td>4123.000000</td>\n",
              "      <td>4633.000000</td>\n",
              "      <td>3879.000000</td>\n",
              "      <td>3262.000000</td>\n",
              "      <td>6.620000e+03</td>\n",
              "      <td>6620.000000</td>\n",
              "      <td>6620.000000</td>\n",
              "      <td>1290.000000</td>\n",
              "      <td>1156.000000</td>\n",
              "    </tr>\n",
              "    <tr>\n",
              "      <th>mean</th>\n",
              "      <td>7.344411</td>\n",
              "      <td>0.401964</td>\n",
              "      <td>0.421148</td>\n",
              "      <td>0.836288</td>\n",
              "      <td>0.858477</td>\n",
              "      <td>596.491291</td>\n",
              "      <td>53.556087</td>\n",
              "      <td>105.724715</td>\n",
              "      <td>459.830563</td>\n",
              "      <td>81.768497</td>\n",
              "      <td>126.587983</td>\n",
              "      <td>2.152367e+09</td>\n",
              "      <td>1.659517</td>\n",
              "      <td>37.133082</td>\n",
              "      <td>0.903720</td>\n",
              "      <td>0.888573</td>\n",
              "    </tr>\n",
              "    <tr>\n",
              "      <th>std</th>\n",
              "      <td>1.944957</td>\n",
              "      <td>0.490332</td>\n",
              "      <td>0.493781</td>\n",
              "      <td>0.370084</td>\n",
              "      <td>0.348623</td>\n",
              "      <td>341.226084</td>\n",
              "      <td>159.348106</td>\n",
              "      <td>82.842579</td>\n",
              "      <td>245.442909</td>\n",
              "      <td>207.451570</td>\n",
              "      <td>57.186226</td>\n",
              "      <td>1.239760e+09</td>\n",
              "      <td>1.086982</td>\n",
              "      <td>18.407459</td>\n",
              "      <td>0.087059</td>\n",
              "      <td>0.105393</td>\n",
              "    </tr>\n",
              "    <tr>\n",
              "      <th>min</th>\n",
              "      <td>3.000000</td>\n",
              "      <td>0.000000</td>\n",
              "      <td>0.000000</td>\n",
              "      <td>0.000000</td>\n",
              "      <td>0.000000</td>\n",
              "      <td>0.000000</td>\n",
              "      <td>-747.000000</td>\n",
              "      <td>3.000000</td>\n",
              "      <td>-300.000000</td>\n",
              "      <td>-1070.000000</td>\n",
              "      <td>20.000000</td>\n",
              "      <td>7.713890e+05</td>\n",
              "      <td>1.000000</td>\n",
              "      <td>1.000000</td>\n",
              "      <td>0.300000</td>\n",
              "      <td>0.211000</td>\n",
              "    </tr>\n",
              "    <tr>\n",
              "      <th>25%</th>\n",
              "      <td>6.000000</td>\n",
              "      <td>0.000000</td>\n",
              "      <td>0.000000</td>\n",
              "      <td>1.000000</td>\n",
              "      <td>1.000000</td>\n",
              "      <td>350.250000</td>\n",
              "      <td>-25.000000</td>\n",
              "      <td>51.000000</td>\n",
              "      <td>270.000000</td>\n",
              "      <td>-45.000000</td>\n",
              "      <td>90.000000</td>\n",
              "      <td>1.062132e+09</td>\n",
              "      <td>1.000000</td>\n",
              "      <td>21.000000</td>\n",
              "      <td>0.868500</td>\n",
              "      <td>0.844000</td>\n",
              "    </tr>\n",
              "    <tr>\n",
              "      <th>50%</th>\n",
              "      <td>8.000000</td>\n",
              "      <td>0.000000</td>\n",
              "      <td>0.000000</td>\n",
              "      <td>1.000000</td>\n",
              "      <td>1.000000</td>\n",
              "      <td>648.000000</td>\n",
              "      <td>41.000000</td>\n",
              "      <td>70.000000</td>\n",
              "      <td>455.000000</td>\n",
              "      <td>95.000000</td>\n",
              "      <td>100.000000</td>\n",
              "      <td>2.159307e+09</td>\n",
              "      <td>1.000000</td>\n",
              "      <td>43.000000</td>\n",
              "      <td>0.923500</td>\n",
              "      <td>0.921000</td>\n",
              "    </tr>\n",
              "    <tr>\n",
              "      <th>75%</th>\n",
              "      <td>9.000000</td>\n",
              "      <td>1.000000</td>\n",
              "      <td>1.000000</td>\n",
              "      <td>1.000000</td>\n",
              "      <td>1.000000</td>\n",
              "      <td>848.750000</td>\n",
              "      <td>138.750000</td>\n",
              "      <td>133.000000</td>\n",
              "      <td>640.000000</td>\n",
              "      <td>215.000000</td>\n",
              "      <td>150.000000</td>\n",
              "      <td>3.228741e+09</td>\n",
              "      <td>2.000000</td>\n",
              "      <td>51.000000</td>\n",
              "      <td>0.966000</td>\n",
              "      <td>0.960000</td>\n",
              "    </tr>\n",
              "    <tr>\n",
              "      <th>max</th>\n",
              "      <td>10.000000</td>\n",
              "      <td>1.000000</td>\n",
              "      <td>1.000000</td>\n",
              "      <td>1.000000</td>\n",
              "      <td>1.000000</td>\n",
              "      <td>1540.000000</td>\n",
              "      <td>1048.000000</td>\n",
              "      <td>364.000000</td>\n",
              "      <td>1190.000000</td>\n",
              "      <td>845.000000</td>\n",
              "      <td>260.000000</td>\n",
              "      <td>4.294937e+09</td>\n",
              "      <td>5.000000</td>\n",
              "      <td>65.000000</td>\n",
              "      <td>1.000000</td>\n",
              "      <td>1.000000</td>\n",
              "    </tr>\n",
              "    <tr>\n",
              "      <th>% Null</th>\n",
              "      <td>0.000000</td>\n",
              "      <td>0.000000</td>\n",
              "      <td>0.000000</td>\n",
              "      <td>0.599547</td>\n",
              "      <td>0.579456</td>\n",
              "      <td>0.323565</td>\n",
              "      <td>0.431722</td>\n",
              "      <td>0.377190</td>\n",
              "      <td>0.300151</td>\n",
              "      <td>0.414048</td>\n",
              "      <td>0.507251</td>\n",
              "      <td>0.000000e+00</td>\n",
              "      <td>0.000000</td>\n",
              "      <td>0.000000</td>\n",
              "      <td>0.805136</td>\n",
              "      <td>0.825378</td>\n",
              "    </tr>\n",
              "  </tbody>\n",
              "</table>\n",
              "</div>"
            ],
            "text/plain": [
              "        GRADE_ID_NUMERIC  OFFICIALFLLIT  OFFICIALFLMTH  FL_LIT_MET_DOSAGE  \\\n",
              "count        6620.000000    6620.000000    6620.000000        2651.000000   \n",
              "mean            7.344411       0.401964       0.421148           0.836288   \n",
              "std             1.944957       0.490332       0.493781           0.370084   \n",
              "min             3.000000       0.000000       0.000000           0.000000   \n",
              "25%             6.000000       0.000000       0.000000           1.000000   \n",
              "50%             8.000000       0.000000       0.000000           1.000000   \n",
              "75%             9.000000       1.000000       1.000000           1.000000   \n",
              "max            10.000000       1.000000       1.000000           1.000000   \n",
              "% Null          0.000000       0.000000       0.000000           0.599547   \n",
              "\n",
              "        FL_MTH_MET_DOSAGE  litassess_pre_value_num  LITASSESS_RAWCHANGE  \\\n",
              "count         2784.000000              4478.000000          3762.000000   \n",
              "mean             0.858477               596.491291            53.556087   \n",
              "std              0.348623               341.226084           159.348106   \n",
              "min              0.000000                 0.000000          -747.000000   \n",
              "25%              1.000000               350.250000           -25.000000   \n",
              "50%              1.000000               648.000000            41.000000   \n",
              "75%              1.000000               848.750000           138.750000   \n",
              "max              1.000000              1540.000000          1048.000000   \n",
              "% Null           0.579456                 0.323565             0.431722   \n",
              "\n",
              "        LITASSESS_SRITARGET  mathassess_pre_value_num  MathAssess_RAWCHANGE  \\\n",
              "count           4123.000000               4633.000000           3879.000000   \n",
              "mean             105.724715                459.830563             81.768497   \n",
              "std               82.842579                245.442909            207.451570   \n",
              "min                3.000000               -300.000000          -1070.000000   \n",
              "25%               51.000000                270.000000            -45.000000   \n",
              "50%               70.000000                455.000000             95.000000   \n",
              "75%              133.000000                640.000000            215.000000   \n",
              "max              364.000000               1190.000000            845.000000   \n",
              "% Null             0.377190                  0.300151              0.414048   \n",
              "\n",
              "         SMI_TARGET        AnonId       SiteId     SchoolId  att_pre_value  \\\n",
              "count   3262.000000  6.620000e+03  6620.000000  6620.000000    1290.000000   \n",
              "mean     126.587983  2.152367e+09     1.659517    37.133082       0.903720   \n",
              "std       57.186226  1.239760e+09     1.086982    18.407459       0.087059   \n",
              "min       20.000000  7.713890e+05     1.000000     1.000000       0.300000   \n",
              "25%       90.000000  1.062132e+09     1.000000    21.000000       0.868500   \n",
              "50%      100.000000  2.159307e+09     1.000000    43.000000       0.923500   \n",
              "75%      150.000000  3.228741e+09     2.000000    51.000000       0.966000   \n",
              "max      260.000000  4.294937e+09     5.000000    65.000000       1.000000   \n",
              "% Null     0.507251  0.000000e+00     0.000000     0.000000       0.805136   \n",
              "\n",
              "        att_post_value  \n",
              "count      1156.000000  \n",
              "mean          0.888573  \n",
              "std           0.105393  \n",
              "min           0.211000  \n",
              "25%           0.844000  \n",
              "50%           0.921000  \n",
              "75%           0.960000  \n",
              "max           1.000000  \n",
              "% Null        0.825378  "
            ]
          },
          "metadata": {
            "tags": []
          },
          "execution_count": 5
        }
      ]
    },
    {
      "metadata": {
        "id": "5wWDzHWfkRix",
        "colab_type": "code",
        "cellView": "form",
        "outputId": "1d0421d2-7bab-420a-f710-cb8c8855539e",
        "colab": {
          "base_uri": "https://localhost:8080/",
          "height": 514
        }
      },
      "cell_type": "code",
      "source": [
        "#@title Reviewing Histograms & Expectation {run: 'auto'}\n",
        "\n",
        "#@markdown Fool around with the bin size, and pick one you like! Once you're happy [respond in the poll.](http://pollev.com/alexperusse670) \n",
        "col = 'mathassess_pre_value_num'\n",
        "\n",
        "bins = 11 #@param {type:\"slider\", min:1, max:30, step:1}\n",
        "\n",
        "f, ax = plt.subplots(figsize=(8, 8))\n",
        "sns.distplot(data[col], bins=bins, hist=True, kde=False, rug=False, ax=ax)\n",
        "\n",
        "#@markdown Given your histogram, [what do you believe is the expected value?](http://pollev.com/alexperusse670)"
      ],
      "execution_count": 0,
      "outputs": [
        {
          "output_type": "execute_result",
          "data": {
            "text/plain": [
              "<matplotlib.axes._subplots.AxesSubplot at 0x7f4efb99e898>"
            ]
          },
          "metadata": {
            "tags": []
          },
          "execution_count": 6
        },
        {
          "output_type": "display_data",
          "data": {
            "image/png": "[encoded data removed]",
            "text/plain": [
              "<Figure size 576x576 with 1 Axes>"
            ]
          },
          "metadata": {
            "tags": []
          }
        }
      ]
    },
    {
      "metadata": {
        "id": "oDy-1UqHw9ea",
        "colab_type": "text"
      },
      "cell_type": "markdown",
      "source": [
        "## Being a Little More Careful - Variance\n",
        "\n",
        "So far we've been very cavalier about the term **variance**, really using to describe two distributions.  However, variance is actually as much a property (or *statistic*) as the expected value is, and we can calculate it directly.  Instead of being an average of the data.  It's *the average (square) distance of the data from its mean.*  So the larger the variance, the farther data will fall from its mean.  \n",
        "\n",
        "Often, *particularly when our data is normally distributed* (bell shaped) then we also like to talk about a tightly related statistic, standard deviation. \n",
        "\n",
        "### Standard Deviation\n",
        "\n",
        "Once we've calculated the variance, the standard deviation is very easy to get.  The **standard deviation** is equal to the square root of the variance. \n",
        "\n",
        "Standard deviation offers some convenience, because of it's connection to the normal distribution and how well it describes its shape. This relationship is usually shown with the following graph:\n",
        "\n",
        "#### The Obligatory Graph\n",
        "![Obligatory Graph](https://www.biologyforlife.com/uploads/2/2/3/9/22392738/sd2_orig.png)\n",
        "\n",
        "### Confidence Intervals\n",
        "\n",
        "Motivated by the picture above, we often like to have some shorthand to be able to describe the range of data.  Confidence intervals become very common to this end.  A 95% confidence interval will simply tell you the range between which 95% of the data falls.  Notice how 95% of the data is equivalent to 2 standard deviations.\n",
        "\n",
        "So if I told you that students on average growth on the MI by 125 points and that the standard deviation of student growth was 50 points, [what is your 95% confidence interval for student growth on the MI?](https://pollev.com/alexperusse670)\n",
        "\n",
        "Whereas it's common to talk about multiple of the standard deviation, like we did to define confidence intervals, with the variance we usually just talk about it by itself. \n",
        "\n",
        "Let's put this all in context. "
      ]
    },
    {
      "metadata": {
        "id": "CoFVqytasB-i",
        "colab_type": "code",
        "cellView": "form",
        "colab": {}
      },
      "cell_type": "code",
      "source": [
        "#@title Import Statistical and Visualization Libraries\n",
        "import numpy as np\n",
        "import pandas as pd\n",
        "import matplotlib.pyplot as plt\n",
        "import seaborn as sns\n",
        "import statsmodels.api as sm"
      ],
      "execution_count": 0,
      "outputs": []
    },
    {
      "metadata": {
        "id": "DbGg2hYitZQz",
        "colab_type": "code",
        "outputId": "dc5a7e38-30bf-4b0a-ad6c-6fe9fb439f5a",
        "cellView": "both",
        "colab": {
          "base_uri": "https://localhost:8080/",
          "height": 412
        }
      },
      "cell_type": "code",
      "source": [
        "#@title Plot Math Growth & Calculate Some Statistics\n",
        "math = data[data.MathAssess_RAWCHANGE.isna() == False]\n",
        "sample = math['MathAssess_RAWCHANGE']\n",
        "print(f\"The expected value of our sample is {sample.mean():4} and the standard deviation is {sample.std():.4}\")\n",
        "print(f\"The variance of our sample is: {sample.std()**2:.6}\")\n",
        "#ci = sm.stats.zconfint(sample)\n",
        "l = sample.mean() - 2*sample.std()\n",
        "r = sample.mean() + 2*sample.std()\n",
        "print(f\"Approximately 95% of our data falls between {l:.4} and {r:.4}\")\n",
        "sns.distplot(sample, bins=20, kde=False)\n",
        "plt.vlines(x=[sample.mean(), l, r], ymin=0, ymax=700)\n",
        "plt.show()"
      ],
      "execution_count": 0,
      "outputs": [
        {
          "output_type": "stream",
          "text": [
            "The expected value of our sample is 81.76849703531838 and the standard deviation is 207.5\n",
            "The variance of our sample is: 43036.2\n",
            "Approximately 95% of our data falls between -333.1 and 496.7\n"
          ],
          "name": "stdout"
        },
        {
          "output_type": "display_data",
          "data": {
            "image/png": "[encoded data removed]",
            "text/plain": [
              "<Figure size 576x396 with 1 Axes>"
            ]
          },
          "metadata": {
            "tags": []
          }
        }
      ]
    },
    {
      "metadata": {
        "id": "h5cZZMMltbBi",
        "colab_type": "text"
      },
      "cell_type": "markdown",
      "source": [
        "## Exploring the Joint Relationship Between Two Variables\n",
        "\n",
        "Being able to describe a variable is a useful ability, and is an important initial step in exploring any data. However, the questions that cause us to try to analyze data in the first place are typically about the relationship between a pair of variables or multiple variables, such as the relationship between participating on a focus list and ELA outcomes. We'll spend today doing a deep dive into this question in the context where we want to compare a binary variable (are you a focus list or not) with a continuous one (how much will you grow on a assessment?)\n",
        "\n",
        "### Visually Comparing Distributions\n",
        "\n",
        "A great place is to leverage the skills we've already built as a starting point.  Let start by considering the focus list participation on assessment growth fo math."
      ]
    },
    {
      "metadata": {
        "id": "mVFVgzl8thMT",
        "colab_type": "code",
        "cellView": "both",
        "colab": {}
      },
      "cell_type": "code",
      "source": [
        "#@title Prepare the data for analysis\n",
        "math = data[data.MathAssess_RAWCHANGE.isna() == False]\n",
        "X = math.OFFICIALFLMTH\n",
        "y = math.MathAssess_RAWCHANGE\n",
        "#describe_nulls(math)"
      ],
      "execution_count": 0,
      "outputs": []
    },
    {
      "metadata": {
        "id": "I5RAV75BtjPE",
        "colab_type": "code",
        "outputId": "e0d8dd53-77b7-4e82-ecbe-9be016651e67",
        "cellView": "both",
        "colab": {
          "base_uri": "https://localhost:8080/",
          "height": 361
        }
      },
      "cell_type": "code",
      "source": [
        "#@title Plot Focus List vs. Non Focus List Growth\n",
        "#@markdown This plot shows the slightest hint that blue is to the right, but they overlap so well that it's hard to tell if that's significant at all.  \n",
        "\n",
        "f, ax = plt.subplots()\n",
        "sns.distplot(a=math[math.OFFICIALFLMTH == 1]['MathAssess_RAWCHANGE'], ax=ax, label='FL')\n",
        "sns.distplot(a=math[math.OFFICIALFLMTH == 0]['MathAssess_RAWCHANGE'], ax=ax, label='Non FL')\n",
        "plt.legend()\n",
        "plt.show()"
      ],
      "execution_count": 0,
      "outputs": [
        {
          "output_type": "display_data",
          "data": {
            "image/png": "[encoded data removed]",
            "text/plain": [
              "<Figure size 576x396 with 1 Axes>"
            ]
          },
          "metadata": {
            "tags": []
          }
        }
      ]
    },
    {
      "metadata": {
        "id": "uYscYjuMtk3u",
        "colab_type": "text"
      },
      "cell_type": "markdown",
      "source": [
        "\n",
        "\n",
        "\n",
        "## Now Let's Calculate the Expected Value\n",
        "\n",
        "Those distributions seem to overlap quite a bit, but let's actually calculate the expected value and see what the difference is."
      ]
    },
    {
      "metadata": {
        "id": "hPMAQoETtmg6",
        "colab_type": "code",
        "outputId": "9393e6ab-a318-4de5-cbfa-12e7c024b841",
        "cellView": "form",
        "colab": {
          "base_uri": "https://localhost:8080/",
          "height": 85
        }
      },
      "cell_type": "code",
      "source": [
        "#@markdown Calculating the mean with Python.\n",
        "x1 = math[math.OFFICIALFLMTH == 1]['MathAssess_RAWCHANGE']\n",
        "x2 = math[math.OFFICIALFLMTH == 0]['MathAssess_RAWCHANGE']\n",
        "print(f\"N Focus List Students: {x1.shape[0]}\")\n",
        "print(f\"N Non Focus List Students: {x2.shape[0]}\")\n",
        "print(f\"Focus list students averages {x1.mean():.4} points of growth\")\n",
        "print(f\"and non focus list student averaged {x2.mean():.4} points of growth.\")"
      ],
      "execution_count": 0,
      "outputs": [
        {
          "output_type": "stream",
          "text": [
            "N Focus List Students: 2757\n",
            "N Non Focus List Students: 1122\n",
            "Focus list students averages 88.8 points of growth\n",
            "and non focus list student averaged 64.49 points of growth.\n"
          ],
          "name": "stdout"
        }
      ]
    },
    {
      "metadata": {
        "id": "qor1JZA1to1t",
        "colab_type": "text"
      },
      "cell_type": "markdown",
      "source": [
        "## Well, that's very interesting!  \n",
        "Focus list students seem to be doing better by about 24 points.  We might naively stop there, but what would happen if we kept sampling students?  Would focus list students continue to outperform nonfocus list students on average, or would non focus list students catch up?\n",
        "\n",
        "All these questions are sources of uncertainty! We really want to directly make inferences from that difference and publish the result to the world (\"focus list students grow at 33% greater rate than their peers!\"), but it's always wise to first consider how confident we can be in the result.  \n",
        "\n",
        "### Statistical Tests as a First Step in Inference\n",
        "Back in the day, statistical tests became an extremely popular way to do inference.  They were easy to calculate by hand and gave decisive answers about what you could consider \"True\" or not.  While there is a whole zoo of them, they all follow a general pattern.\n",
        "\n",
        " 1. This is some property we want to assess, for example \"do two samples have different means?\"\n",
        " 2. We calculate some statistics from the data (such as the expected value and variance).  \n",
        " 3. We use a formula (the statistical test) on the statistics we calculated, and it returns one last statistic, usually called a p-value. \n",
        " 4. If that p-value is small enough, then we can conclue the result is \"statistically signficant\" and conclude something about are data (No they don't!).  If not, then we dont! Statistician like to call this step \"rejecting (if the p-values is small) or accepting (if the p-value is large) the null hypothesis.\"  Traditionally in the social sciences, we have looked for p-values < 0.05. \n",
        " \n",
        "Statistical tests have a long history of use in science.  It is even today common pratice to restrict articles from being published in journals if they are not \"statistically significant.\"  While simpler statistical tests have become less common, the use of p-values are still as commonplace as ever.  \n",
        "\n",
        "## In our context\n",
        "\n",
        "So we've been looking at the raw change in assessment, and trying to claim that focus list students do better.  The classic test for this is the **two sample t-test.**  We're going to demonstrate it here, but then immediatly show you a better way to do it.  This is just because the Ghost of Ronald Fischer bullied me into doing it. \n"
      ]
    },
    {
      "metadata": {
        "id": "lHt4ps0Otrsh",
        "colab_type": "code",
        "outputId": "c9a1d0f6-2418-4996-a213-f549efec9377",
        "cellView": "both",
        "colab": {
          "base_uri": "https://localhost:8080/",
          "height": 34
        }
      },
      "cell_type": "code",
      "source": [
        "#@title The Two-Sample T-Test\n",
        "x1 = math[math.OFFICIALFLMTH == 1]['MathAssess_RAWCHANGE']\n",
        "x2 = math[math.OFFICIALFLMTH == 0]['MathAssess_RAWCHANGE']\n",
        "\n",
        "results = sm.stats.ttest_ind(x1=x1, x2=x2, alternative=\"larger\")\n",
        "significant = \"signficiant at alpha = 0.05\" if results[1] < 0.05 else \"not signficant at alpha = 0.05\"\n",
        "print(f\"The two sample t test for FL and Non FL found that `FL > NFL` was {significant} with p-value: {results[1]:0.3}\")"
      ],
      "execution_count": 0,
      "outputs": [
        {
          "output_type": "stream",
          "text": [
            "The two sample t test for FL and Non FL found that `FL > NFL` was signficiant at alpha = 0.05 with p-value: 0.000464\n"
          ],
          "name": "stdout"
        }
      ]
    },
    {
      "metadata": {
        "id": "AMII5NAD_21C",
        "colab_type": "code",
        "cellView": "both",
        "outputId": "d91f6e8d-5f36-4521-fc66-085a7991af2a",
        "colab": {
          "base_uri": "https://localhost:8080/",
          "height": 51
        }
      },
      "cell_type": "code",
      "source": [
        "#@title Your Turn!\n",
        "#@markdown Here's the output from the t-test. [Respond in the poll whether or not you think this result is \"statistically significant\".](http://pollev.com/alexperusse670)\n",
        "#@title The Two-Sample T-Test\n",
        "\n",
        "ela = data[data.LITASSESS_RAWCHANGE.isna() == False]\n",
        "x1 = ela[ela.OFFICIALFLLIT == 1]['LITASSESS_RAWCHANGE']\n",
        "x2 = ela[ela.OFFICIALFLLIT == 0]['LITASSESS_RAWCHANGE']\n",
        "print(f\"FL average ELA growth was {x1.mean()}, Non FL averaged {x2.mean()}\")\n",
        "\n",
        "results = sm.stats.ttest_ind(x1=x1, x2=x2)\n",
        "significant = \"signficiant at alpha = 0.05\" if results[1] < 0.05 else \"not signficant at alpha = 0.05\"\n",
        "print(f\"The two sample t test for FL and Non FL found a of p-value: {results[1]:0.3}\")"
      ],
      "execution_count": 0,
      "outputs": [
        {
          "output_type": "stream",
          "text": [
            "FL average ELA growth was 56.985753858330035, Non FL averaged 46.53846153846154\n",
            "The two sample t test for FL and Non FL found a of p-value: 0.059\n"
          ],
          "name": "stdout"
        }
      ]
    },
    {
      "metadata": {
        "id": "qeHsWE25C1ru",
        "colab_type": "text"
      },
      "cell_type": "markdown",
      "source": [
        "## So what's the problem...\n",
        "\n",
        "### Our model makes a lot of assumptions about our data\n",
        "If we think about the world from the t-test's perspective, the only information we give the t-test is whether or not the student was on a focus list, but in all other respects all students are exactly the same.  Is that really a good assumption? A t-test was really born for randomized experiments. The magic of randomization is that even though we know that our population is diversed, because a person with say some important genetic difference is just as likely to go to the treatment as the control group we can ignore that effect. However, focus list students are not randomly selected, and therefore the difference between FL and Non FL isn't just that they received services.  For example, it is very likely that Focus List students start with a lower assessment score relative to a non focus list student, and this may have some impact on the amount of growth they are expected to achieve in a year. \n",
        "\n",
        "### p-values are frequently misinterpreted\n",
        "The problem starts with the definition (from wikipedia):\n",
        "\n",
        "*In statistical hypothesis testing, the p-value or probability value or asymptotic significance is the probability for a given statistical model that, when the null hypothesis is true, the statistical summary (such as the sample mean difference between two compared groups) would be greater than or equal to the actual observed results.[1](https://en.wikipedia.org/wiki/P-value#cite_note-ASA-1)*\n",
        "\n",
        "This confusing definition often leads to many people (including statisticians) arguing that the p-value tells you the strength of the evidence that your hypothesis is correct, **but this is not the case.** It is *the likelihood you would see this data* if there were actual effect in the data (e.g. the focus list students and non-focus list students grow at the same rate on average). This subtle point has led to decades of arguement, though one that I believe is much further along today than it was.  \n",
        "\n",
        "### The Scientific Community is Moving Ahead\n",
        "You don't just have to take my word that science is pushing back against p-values.  Hopefuly with movements such as [this comment in Nature ](https://www.nature.com/articles/d41586-019-00857-9?utm_source=fbk_nnc&utm_medium=social&utm_campaign=naturenews&sf209757610=1) that included a petition of ~900 statistician and professionals, this [issue of the American Statistician](https://www.tandfonline.com/toc/utas20/73/sup1) devoted to p-values and statistical significance, and pressure from outside academic community like [this article from Nate Silver](https://fivethirtyeight.com/features/statisticians-found-one-thing-they-can-agree-on-its-time-to-stop-misusing-p-values/) we can move past it. If you are interested in reading more about statistics with a nuanced point of view, [I really recommend Andrew Gelman's blog.](https://statmodeling.stat.columbia.edu)\n",
        "\n",
        "Is the p-value a measure of how strong your evidence is? [Respond in the poll](http://pollev.com/alexperusse670)\n",
        "\n",
        "## But what do we use instead?\n",
        "\n",
        "We first have to use a slightly improved tool. Regression modeling!  The t-test we performed before can actually be thought of as a special case of what we will spend all of next session talking about. \n",
        "\n",
        "However to avoid confusion I should be clear.  Regression models don't (necessarily) get ditch p-values. In fact, the type of model we'll start with will happily give you a whole bunch of p-values for you to interpret. However, they will relax some of the assumptions we made about our data, and will allow to to include other pieces of information in our models of things like student growth.\n",
        "\n",
        "Okay, quick example.\n",
        "\n",
        "To begin, it's important to state the goal of regression.  We want to predict the value of some column of data, given some other data.  So far, the thing we've been trying to predict have been things like ELA and Math assessment growth, and we've wanted to be able to predict that given their participation on a focus list.  When we talk about this, we're often going to use a formula that looks like this. \n",
        "$$\\text{Math Assessment Growth} \\sim \\text{Math Focus List}$$\n",
        "\n",
        "We'll then give this formula and our data to Python to make our predictions. **Don't worry about all the values in the table.**  We will go through many of them in the next session, but for now I will draw your attention to the important values. "
      ]
    },
    {
      "metadata": {
        "id": "inv3WF4z_zIB",
        "colab_type": "code",
        "cellView": "both",
        "outputId": "295755db-f57e-41a5-9ba9-70fe0e13c684",
        "colab": {
          "base_uri": "https://localhost:8080/",
          "height": 376
        }
      },
      "cell_type": "code",
      "source": [
        "#@title A Better Way: Regression\n",
        "relationship = sm.GLS(endog=y, exog=sm.add_constant(X))\n",
        "results = relationship.fit()\n",
        "results.summary()"
      ],
      "execution_count": 0,
      "outputs": [
        {
          "output_type": "execute_result",
          "data": {
            "text/html": [
              "<table class=\"simpletable\">\n",
              "<caption>GLS Regression Results</caption>\n",
              "<tr>\n",
              "  <th>Dep. Variable:</th>    <td>MathAssess_RAWCHANGE</td> <th>  R-squared:         </th> <td>   0.003</td> \n",
              "</tr>\n",
              "<tr>\n",
              "  <th>Model:</th>                     <td>GLS</td>         <th>  Adj. R-squared:    </th> <td>   0.003</td> \n",
              "</tr>\n",
              "<tr>\n",
              "  <th>Method:</th>               <td>Least Squares</td>    <th>  F-statistic:       </th> <td>   10.98</td> \n",
              "</tr>\n",
              "<tr>\n",
              "  <th>Date:</th>               <td>Thu, 04 Apr 2019</td>   <th>  Prob (F-statistic):</th> <td>0.000928</td> \n",
              "</tr>\n",
              "<tr>\n",
              "  <th>Time:</th>                   <td>18:53:14</td>       <th>  Log-Likelihood:    </th> <td> -26192.</td> \n",
              "</tr>\n",
              "<tr>\n",
              "  <th>No. Observations:</th>        <td>  3879</td>        <th>  AIC:               </th> <td>5.239e+04</td>\n",
              "</tr>\n",
              "<tr>\n",
              "  <th>Df Residuals:</th>            <td>  3877</td>        <th>  BIC:               </th> <td>5.240e+04</td>\n",
              "</tr>\n",
              "<tr>\n",
              "  <th>Df Model:</th>                <td>     1</td>        <th>                     </th>     <td> </td>    \n",
              "</tr>\n",
              "<tr>\n",
              "  <th>Covariance Type:</th>        <td>nonrobust</td>      <th>                     </th>     <td> </td>    \n",
              "</tr>\n",
              "</table>\n",
              "<table class=\"simpletable\">\n",
              "<tr>\n",
              "        <td></td>           <th>coef</th>     <th>std err</th>      <th>t</th>      <th>P>|t|</th>  <th>[0.025</th>    <th>0.975]</th>  \n",
              "</tr>\n",
              "<tr>\n",
              "  <th>const</th>         <td>   64.4875</td> <td>    6.185</td> <td>   10.426</td> <td> 0.000</td> <td>   52.361</td> <td>   76.614</td>\n",
              "</tr>\n",
              "<tr>\n",
              "  <th>OFFICIALFLMTH</th> <td>   24.3137</td> <td>    7.337</td> <td>    3.314</td> <td> 0.001</td> <td>    9.929</td> <td>   38.698</td>\n",
              "</tr>\n",
              "</table>\n",
              "<table class=\"simpletable\">\n",
              "<tr>\n",
              "  <th>Omnibus:</th>       <td>197.118</td> <th>  Durbin-Watson:     </th> <td>   1.758</td>\n",
              "</tr>\n",
              "<tr>\n",
              "  <th>Prob(Omnibus):</th> <td> 0.000</td>  <th>  Jarque-Bera (JB):  </th> <td> 322.465</td>\n",
              "</tr>\n",
              "<tr>\n",
              "  <th>Skew:</th>          <td>-0.421</td>  <th>  Prob(JB):          </th> <td>9.50e-71</td>\n",
              "</tr>\n",
              "<tr>\n",
              "  <th>Kurtosis:</th>      <td> 4.134</td>  <th>  Cond. No.          </th> <td>    3.49</td>\n",
              "</tr>\n",
              "</table>"
            ],
            "text/plain": [
              "<class 'statsmodels.iolib.summary.Summary'>\n",
              "\"\"\"\n",
              "                             GLS Regression Results                             \n",
              "================================================================================\n",
              "Dep. Variable:     MathAssess_RAWCHANGE   R-squared:                       0.003\n",
              "Model:                              GLS   Adj. R-squared:                  0.003\n",
              "Method:                   Least Squares   F-statistic:                     10.98\n",
              "Date:                  Thu, 04 Apr 2019   Prob (F-statistic):           0.000928\n",
              "Time:                          18:53:14   Log-Likelihood:                -26192.\n",
              "No. Observations:                  3879   AIC:                         5.239e+04\n",
              "Df Residuals:                      3877   BIC:                         5.240e+04\n",
              "Df Model:                             1                                         \n",
              "Covariance Type:              nonrobust                                         \n",
              "=================================================================================\n",
              "                    coef    std err          t      P>|t|      [0.025      0.975]\n",
              "---------------------------------------------------------------------------------\n",
              "const            64.4875      6.185     10.426      0.000      52.361      76.614\n",
              "OFFICIALFLMTH    24.3137      7.337      3.314      0.001       9.929      38.698\n",
              "==============================================================================\n",
              "Omnibus:                      197.118   Durbin-Watson:                   1.758\n",
              "Prob(Omnibus):                  0.000   Jarque-Bera (JB):              322.465\n",
              "Skew:                          -0.421   Prob(JB):                     9.50e-71\n",
              "Kurtosis:                       4.134   Cond. No.                         3.49\n",
              "==============================================================================\n",
              "\n",
              "Warnings:\n",
              "[1] Standard Errors assume that the covariance matrix of the errors is correctly specified.\n",
              "\"\"\""
            ]
          },
          "metadata": {
            "tags": []
          },
          "execution_count": 14
        }
      ]
    },
    {
      "metadata": {
        "id": "X_RHdiNyLQo6",
        "colab_type": "text"
      },
      "cell_type": "markdown",
      "source": [
        "The line to pay attention to starts with **OFFICIALFLMTH** and looks like:\n",
        "\n",
        "|  | **coef** | **std err** | **t** | **P>t** |  [0.025 | 0.975]\n",
        "|---|---|---|---|---|---|\n",
        "|**OFFICIALFLMTH**|24.3137\t|7.337|\t3.314|\t0.001|\t9.929\t|38.698\n",
        "\n",
        "**coef**: This is an expected value.  In this case, it's the expected effect of being on a focus list on the math assessment growth. \n",
        "\n",
        "**P>t**: This is p -value. That is, the probability that the effect size (the **coef**) observed is the result of chance in the data. \n",
        "\n",
        "**[0.025, 0.975]**: Is a 95% confidence interval on the effect size **OFFICIALFLMTH**. \n"
      ]
    },
    {
      "metadata": {
        "id": "sXTiFn0WXmz0",
        "colab_type": "code",
        "cellView": "both",
        "outputId": "ea578f88-0920-446b-c957-f647bfc61e4a",
        "colab": {
          "base_uri": "https://localhost:8080/",
          "height": 347
        }
      },
      "cell_type": "code",
      "source": [
        "#@title Visually Interpreting the Regression\n",
        "#@markdown It becomes much easier to see why we might want to consider this as \"statistically significant\" in light of this graph.  The distribution here is showings us different possible values for the effect size the their associated probability.  Notice how the probability that the effect size is larger than zero seems to be pretty large. \n",
        "import scipy\n",
        "\n",
        "x = np.linspace(-5, 50, 1000)\n",
        "# plug in the coef and std err values in as the loc (mean) and scale (std deviation) of the normal distribution\n",
        "y = scipy.stats.norm.pdf(x, loc=24.3137, scale=7.337)\n",
        "\n",
        "\n",
        "plt.xlim(-5, 50)\n",
        "plt.plot(x, y)\n",
        "plt.show()"
      ],
      "execution_count": 0,
      "outputs": [
        {
          "output_type": "display_data",
          "data": {
            "image/png": "[encoded data removed]",
            "text/plain": [
              "<Figure size 576x396 with 1 Axes>"
            ]
          },
          "metadata": {
            "tags": []
          }
        }
      ]
    },
    {
      "metadata": {
        "id": "RpvkoKg0HllM",
        "colab_type": "text"
      },
      "cell_type": "markdown",
      "source": [
        "# Thanks for Participating!\n",
        "\n",
        "[Please leave me some feedback. It's appreciated :)](https://forms.office.com/Pages/ResponsePage.aspx?id=n4nHpSnR9kisiI-X82badMFC4tEHX8lCm8qe3Orb0kdUQkw2TkQxUFJEWjlCRElPVlJQWktVRlQ0QiQlQCN0PWcu) \n",
        "\n",
        "## Coming Up!\n",
        "\n",
        "We are diving into one of the meatest topics in statistics, regression, and we will spend at least the next two sessions learning all about it. However I want to include your all data into this as well! So in addition to the normal *Practical Statistics* sessions every 3 weeks are so, we going to add in around two *Analyze It Live* sessions in about a month from now.  The general idea is that a participant from these sessions brings a dataset that you are interested in doing some regression on, and we will spend a two hours session doing a full analysis live (from exploratory analysis to inference and conclusions).  \n",
        "\n",
        "These won't require any prep from me so I don't need to know now, but start to think about any data you might have that you would be comfortable going through in an *Analyze It Live* session. Please reach out to me directly if you have any ideas!"
      ]
    },
    {
      "metadata": {
        "id": "hCgdnqO6O9O-",
        "colab_type": "code",
        "colab": {}
      },
      "cell_type": "code",
      "source": [
        ""
      ],
      "execution_count": 0,
      "outputs": []
    }
  ]
}